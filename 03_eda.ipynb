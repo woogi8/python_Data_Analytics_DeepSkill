{
 "cells": [
  {
   "cell_type": "markdown",
   "metadata": {},
   "source": [
    "# 2. 탐색적 데이터 분석(EDA) 심화"
   ]
  },
  {
   "cell_type": "code",
   "execution_count": null,
   "metadata": {},
   "outputs": [],
   "source": [
    "# [TASK] 2.1 \"semiconductor.csv\"를 불러옵니다 (이전 실습 노트북을 참조 및 응용)\n"
   ]
  },
  {
   "cell_type": "markdown",
   "metadata": {},
   "source": [
    "* `id`: 제품 ID, 고유한 식별자.\n",
    "* `cycle_time_days`: 반도체 제조 공정의 주기 시간 (분 단위)\n",
    "* `material_type`: 사용된 재료의 유형, 범주형. 코드: {'0': 'Si', '1': 'GaAs'}\n",
    "* `tool_wear_level`: 제조 도구의 마모 수준, 범주형. 코드: {'1': 'Low', '2': 'Medium', '3': 'High', '4': 'Critical'}\n",
    "* `clean_room_pressure`: 클린룸 내 압력 (파스칼)\n",
    "* `layer_thickness_nm`: 반도체 층의 두께 (나노미터)\n",
    "* `chemical_concentration`: 사용된 화학물질의 농도, 범주형. 코드: {'0': 'Low', '1': 'High'}\n",
    "* `etching_voltage`: 식각 공정에 사용된 전압, 범주형. 코드: {'0': 'Standard', '1': 'Increased', '2': 'High'}\n",
    "* `deposition_rate`: 제조 공정의 증착률\n",
    "* `humidity_level`: 제조 환경의 습도 수준, 범주형. 코드: {'0': 'Low', '1': 'High'}\n",
    "* `photoresist_thickness_variation`: 포토레지스트 두께의 변동\n",
    "* `etching_uniformity`: 식각 공정의 균일성, 범주형. 코드: {'1': 'Uniform', '2': 'Moderate', '3': 'Varied'}\n",
    "* `particle_count`: 반도체 표면에 검출된 입자 수, 범주형. 코드: {'0.0': 'None', '1.0': 'Few', '2.0': 'Some', '3.0': 'Many'}\n",
    "* `doping_concentration`: 도핑 물질 사용 농도, 범주형. 코드: {'3.0': 'Low', '7.0': 'High'}\n",
    "* `product_defect`: 제품의 결함 여부 (1: 결함 있음, 0: 결함 없음)"
   ]
  },
  {
   "cell_type": "code",
   "execution_count": null,
   "metadata": {},
   "outputs": [],
   "source": [
    "# [TASK] 2.2 평균 layer_thickness_nm이 가장 낮은 material_type은?\n"
   ]
  },
  {
   "cell_type": "code",
   "execution_count": null,
   "metadata": {},
   "outputs": [],
   "source": [
    "# [TASK] 2.3 평균 deposition_rate가 가장 높은 etching_voltage는?\n"
   ]
  },
  {
   "cell_type": "code",
   "execution_count": null,
   "metadata": {},
   "outputs": [],
   "source": [
    "# [TASK] 2.4 humidity_level에 따른 product_defect 비율이 가장 높은 범주는?\n"
   ]
  },
  {
   "cell_type": "code",
   "execution_count": null,
   "metadata": {},
   "outputs": [],
   "source": [
    "# 2.5 시각화로 확인하기\n",
    "import matplotlib.pyplot as plt\n",
    "import seaborn as sns"
   ]
  },
  {
   "cell_type": "code",
   "execution_count": null,
   "metadata": {},
   "outputs": [],
   "source": [
    "%matplotlib inline\n",
    "sns.histplot(semiconductor['deposition_rate'], kde=True, color='lightgreen', bins=50)\n",
    "plt.title('Distribution of Deposition Rate', fontsize=15)\n",
    "plt.xlabel('Deposition Rate', fontsize=12)\n",
    "plt.ylabel('Density', fontsize=12)\n",
    "plt.show()"
   ]
  },
  {
   "cell_type": "code",
   "execution_count": null,
   "metadata": {},
   "outputs": [],
   "source": [
    "%matplotlib inline\n",
    "sns.histplot(semiconductor['layer_thickness_nm'], kde=True, color='salmon', bins=50)\n",
    "plt.title('Distribution of Layer Thickness (nm)', fontsize=15)\n",
    "plt.xlabel('Layer Thickness (nm)', fontsize=12)\n",
    "plt.ylabel('Density', fontsize=12)\n",
    "plt.show()"
   ]
  },
  {
   "cell_type": "code",
   "execution_count": null,
   "metadata": {},
   "outputs": [],
   "source": [
    "# 2.6 EDA 패키지 활용\n",
    "# !pip install ydata-profiling"
   ]
  },
  {
   "cell_type": "code",
   "execution_count": null,
   "metadata": {},
   "outputs": [],
   "source": [
    "from ydata_profiling import ProfileReport\n",
    "profile = ProfileReport(data)\n",
    "profile.to_notebook_iframe()"
   ]
  }
 ],
 "metadata": {
  "kernelspec": {
   "display_name": "Python 3",
   "language": "python",
   "name": "python3"
  },
  "language_info": {
   "codemirror_mode": {
    "name": "ipython",
    "version": 3
   },
   "file_extension": ".py",
   "mimetype": "text/x-python",
   "name": "python",
   "nbconvert_exporter": "python",
   "pygments_lexer": "ipython3",
   "version": "3.11.5"
  }
 },
 "nbformat": 4,
 "nbformat_minor": 2
}
