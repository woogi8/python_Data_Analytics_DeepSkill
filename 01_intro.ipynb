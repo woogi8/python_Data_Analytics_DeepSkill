{
 "cells": [
  {
   "cell_type": "markdown",
   "metadata": {},
   "source": [
    "# 1. 파이썬 vs 엑셀"
   ]
  },
  {
   "cell_type": "code",
   "execution_count": null,
   "metadata": {},
   "outputs": [],
   "source": [
    "# 1.1 math 패키지 불러오기\n",
    "import math\n",
    "\n",
    "# 새로운 패키지 설치\n",
    "# !pip install <새로운 패키지>"
   ]
  },
  {
   "cell_type": "code",
   "execution_count": null,
   "metadata": {},
   "outputs": [],
   "source": [
    "# 1.2 [TASK] pandas 패키지 불러오기\n",
    "import pandas"
   ]
  },
  {
   "cell_type": "code",
   "execution_count": null,
   "metadata": {},
   "outputs": [],
   "source": [
    "# 1.3 엑셀 파일 불러오기\n",
    "pandas.read_excel(\"sales.xlsx\")"
   ]
  },
  {
   "cell_type": "code",
   "execution_count": null,
   "metadata": {},
   "outputs": [],
   "source": [
    "# 1.4 패키지 이름 축약\n",
    "import pandas as pd\n",
    "pd.read_excel(\"sales.xlsx\")"
   ]
  },
  {
   "cell_type": "code",
   "execution_count": null,
   "metadata": {},
   "outputs": [],
   "source": [
    "# 1.5 변수로 저장\n",
    "import pandas as pd\n",
    "sales = pd.read_excel(\"sales.xlsx\")"
   ]
  },
  {
   "cell_type": "code",
   "execution_count": null,
   "metadata": {},
   "outputs": [],
   "source": [
    "# 1.6 출력 후 확인\n",
    "import pandas as pd\n",
    "sales = pd.read_excel(\"sales.xlsx\")\n",
    "sales.head()"
   ]
  },
  {
   "cell_type": "code",
   "execution_count": null,
   "metadata": {},
   "outputs": [],
   "source": [
    "# 1.7 데이터 확인\n",
    "# .head()\n",
    "# .info()\n",
    "# .describe()\n",
    "# 위 기능 등을 확인해보세요 예를 들어..\n",
    "sales.head()"
   ]
  },
  {
   "cell_type": "code",
   "execution_count": null,
   "metadata": {},
   "outputs": [],
   "source": [
    "# 1.8 열 선택\n",
    "sales[\"product\"]"
   ]
  },
  {
   "cell_type": "markdown",
   "metadata": {},
   "source": [
    "참고: 비교 연산자(comparison)\n",
    "\n",
    "* `==` (같음)\n",
    "* `!=` (같지 않음)\n",
    "* `<` (적음)\n",
    "* `>` (큼)\n",
    "* `<=` (적거나 같음)\n",
    "* `>=` (크거나 같음)"
   ]
  },
  {
   "cell_type": "code",
   "execution_count": null,
   "metadata": {},
   "outputs": [],
   "source": [
    "# 1.9 필터\n",
    "# 하나씩 시도해보세요\n",
    "sales[sales[\"product\"] == \"범핑\"]\n",
    "# sales[sales[\"price\"] > 100]\n",
    "# sales[sales[\"price\"] > 100].reset_index(drop=True)"
   ]
  },
  {
   "cell_type": "code",
   "execution_count": null,
   "metadata": {},
   "outputs": [],
   "source": [
    "# [TASK] 1.10 필터\n",
    "# \"WLP\" 제품만 남기려면?\n",
    "# $100k 이하 제품만 남기려면?\n",
    "# $100k 초과이면서 판매수량이 50 초과인 행만 남기려면? 양식: 데이터[(조건문1) & (조건문2)]"
   ]
  },
  {
   "cell_type": "code",
   "execution_count": null,
   "metadata": {},
   "outputs": [],
   "source": [
    "# 1.11 [TASK] 새로운 열 총 매출(revenue) 만들기\n",
    "sales[\"revenue\"] = sales[\"____\"] * sales[\"____\"]\n",
    "sales"
   ]
  },
  {
   "cell_type": "code",
   "execution_count": null,
   "metadata": {},
   "outputs": [],
   "source": [
    "# 1.12 데이터 요약하기\n",
    "sales.sum(numeric_only = True)"
   ]
  },
  {
   "cell_type": "code",
   "execution_count": null,
   "metadata": {},
   "outputs": [],
   "source": [
    "# 1.13 그룹별로 요약하기\n",
    "sales.groupby(\"customer\").sum(numeric_only=True)"
   ]
  },
  {
   "cell_type": "code",
   "execution_count": null,
   "metadata": {},
   "outputs": [],
   "source": [
    "# 1.14 [TASK] product 별로 요약하기\n",
    "sales.groupby(\"____\").sum(numeric_only=True)"
   ]
  },
  {
   "cell_type": "code",
   "execution_count": null,
   "metadata": {},
   "outputs": [],
   "source": [
    "# 1.15 여러 열을 이용해 요약하기\n",
    "sales.groupby([\"customer\", \"product\"]).sum(numeric_only=True)"
   ]
  },
  {
   "cell_type": "code",
   "execution_count": null,
   "metadata": {},
   "outputs": [],
   "source": [
    "# 1.16 사용자 정의 함수\n",
    "def group_sum(df, columns):\n",
    "    summary = df.groupby(columns).sum(numeric_only=True)\n",
    "    return summary"
   ]
  }
 ],
 "metadata": {
  "kernelspec": {
   "display_name": "Python 3",
   "language": "python",
   "name": "python3"
  },
  "language_info": {
   "codemirror_mode": {
    "name": "ipython",
    "version": 3
   },
   "file_extension": ".py",
   "mimetype": "text/x-python",
   "name": "python",
   "nbconvert_exporter": "python",
   "pygments_lexer": "ipython3",
   "version": "3.11.5"
  },
  "orig_nbformat": 4
 },
 "nbformat": 4,
 "nbformat_minor": 2
}
